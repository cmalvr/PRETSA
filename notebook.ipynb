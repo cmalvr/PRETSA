{
  "cells": [
    {
      "cell_type": "markdown",
      "metadata": {
        "id": "z4rElDKnzvIv"
      },
      "source": [
        "# Differential Privacy for PRETSA"
      ]
    },
    {
      "cell_type": "code",
      "source": [
        "!git clone https://github.com/cmalvr/PRETSA"
      ],
      "metadata": {
        "id": "cQyBThI7z-FI",
        "outputId": "921a6910-ea5d-4afc-86f5-1c2fce9b88ef",
        "colab": {
          "base_uri": "https://localhost:8080/"
        }
      },
      "execution_count": 1,
      "outputs": [
        {
          "output_type": "stream",
          "name": "stdout",
          "text": [
            "Cloning into 'PRETSA'...\n",
            "remote: Enumerating objects: 510, done.\u001b[K\n",
            "remote: Counting objects: 100% (86/86), done.\u001b[K\n",
            "remote: Compressing objects: 100% (62/62), done.\u001b[K\n",
            "remote: Total 510 (delta 50), reused 57 (delta 24), pack-reused 424 (from 1)\u001b[K\n",
            "Receiving objects: 100% (510/510), 11.51 MiB | 20.18 MiB/s, done.\n",
            "Resolving deltas: 100% (309/309), done.\n"
          ]
        }
      ]
    },
    {
      "cell_type": "code",
      "source": [
        "!pip install -r /content/PRETSA/requirements.txt"
      ],
      "metadata": {
        "id": "W5x4Jj6b0IZk",
        "outputId": "ae3aeab1-11ac-4f4a-9c3d-63756f3ea452",
        "colab": {
          "base_uri": "https://localhost:8080/"
        }
      },
      "execution_count": 2,
      "outputs": [
        {
          "output_type": "stream",
          "name": "stdout",
          "text": [
            "Collecting anytree==2.4.3 (from -r /content/PRETSA/requirements.txt (line 1))\n",
            "  Downloading anytree-2.4.3.tar.gz (18 kB)\n",
            "  Preparing metadata (setup.py) ... \u001b[?25l\u001b[?25hdone\n",
            "Requirement already satisfied: numpy>=1.18.1 in /usr/local/lib/python3.11/dist-packages (from -r /content/PRETSA/requirements.txt (line 2)) (2.0.2)\n",
            "Requirement already satisfied: scipy>=1.4.1 in /usr/local/lib/python3.11/dist-packages (from -r /content/PRETSA/requirements.txt (line 3)) (1.14.1)\n",
            "Requirement already satisfied: pandas>=0.23.4 in /usr/local/lib/python3.11/dist-packages (from -r /content/PRETSA/requirements.txt (line 4)) (2.2.2)\n",
            "Collecting pm4py (from -r /content/PRETSA/requirements.txt (line 5))\n",
            "  Downloading pm4py-2.7.14-py3-none-any.whl.metadata (4.4 kB)\n",
            "Requirement already satisfied: six>=1.9.0 in /usr/local/lib/python3.11/dist-packages (from anytree==2.4.3->-r /content/PRETSA/requirements.txt (line 1)) (1.17.0)\n",
            "Requirement already satisfied: python-dateutil>=2.8.2 in /usr/local/lib/python3.11/dist-packages (from pandas>=0.23.4->-r /content/PRETSA/requirements.txt (line 4)) (2.8.2)\n",
            "Requirement already satisfied: pytz>=2020.1 in /usr/local/lib/python3.11/dist-packages (from pandas>=0.23.4->-r /content/PRETSA/requirements.txt (line 4)) (2025.1)\n",
            "Requirement already satisfied: tzdata>=2022.7 in /usr/local/lib/python3.11/dist-packages (from pandas>=0.23.4->-r /content/PRETSA/requirements.txt (line 4)) (2025.1)\n",
            "Collecting deprecation (from pm4py->-r /content/PRETSA/requirements.txt (line 5))\n",
            "  Downloading deprecation-2.1.0-py2.py3-none-any.whl.metadata (4.6 kB)\n",
            "Requirement already satisfied: networkx in /usr/local/lib/python3.11/dist-packages (from pm4py->-r /content/PRETSA/requirements.txt (line 5)) (3.4.2)\n",
            "Requirement already satisfied: graphviz in /usr/local/lib/python3.11/dist-packages (from pm4py->-r /content/PRETSA/requirements.txt (line 5)) (0.20.3)\n",
            "Requirement already satisfied: wheel in /usr/local/lib/python3.11/dist-packages (from pm4py->-r /content/PRETSA/requirements.txt (line 5)) (0.45.1)\n",
            "Requirement already satisfied: setuptools in /usr/local/lib/python3.11/dist-packages (from pm4py->-r /content/PRETSA/requirements.txt (line 5)) (75.1.0)\n",
            "Collecting intervaltree (from pm4py->-r /content/PRETSA/requirements.txt (line 5))\n",
            "  Downloading intervaltree-3.1.0.tar.gz (32 kB)\n",
            "  Preparing metadata (setup.py) ... \u001b[?25l\u001b[?25hdone\n",
            "Requirement already satisfied: lxml in /usr/local/lib/python3.11/dist-packages (from pm4py->-r /content/PRETSA/requirements.txt (line 5)) (5.3.1)\n",
            "Requirement already satisfied: matplotlib in /usr/local/lib/python3.11/dist-packages (from pm4py->-r /content/PRETSA/requirements.txt (line 5)) (3.10.0)\n",
            "Requirement already satisfied: pydotplus in /usr/local/lib/python3.11/dist-packages (from pm4py->-r /content/PRETSA/requirements.txt (line 5)) (2.0.2)\n",
            "Requirement already satisfied: tqdm in /usr/local/lib/python3.11/dist-packages (from pm4py->-r /content/PRETSA/requirements.txt (line 5)) (4.67.1)\n",
            "Requirement already satisfied: cvxopt in /usr/local/lib/python3.11/dist-packages (from pm4py->-r /content/PRETSA/requirements.txt (line 5)) (1.3.2)\n",
            "Requirement already satisfied: packaging in /usr/local/lib/python3.11/dist-packages (from deprecation->pm4py->-r /content/PRETSA/requirements.txt (line 5)) (24.2)\n",
            "Requirement already satisfied: sortedcontainers<3.0,>=2.0 in /usr/local/lib/python3.11/dist-packages (from intervaltree->pm4py->-r /content/PRETSA/requirements.txt (line 5)) (2.4.0)\n",
            "Requirement already satisfied: contourpy>=1.0.1 in /usr/local/lib/python3.11/dist-packages (from matplotlib->pm4py->-r /content/PRETSA/requirements.txt (line 5)) (1.3.1)\n",
            "Requirement already satisfied: cycler>=0.10 in /usr/local/lib/python3.11/dist-packages (from matplotlib->pm4py->-r /content/PRETSA/requirements.txt (line 5)) (0.12.1)\n",
            "Requirement already satisfied: fonttools>=4.22.0 in /usr/local/lib/python3.11/dist-packages (from matplotlib->pm4py->-r /content/PRETSA/requirements.txt (line 5)) (4.56.0)\n",
            "Requirement already satisfied: kiwisolver>=1.3.1 in /usr/local/lib/python3.11/dist-packages (from matplotlib->pm4py->-r /content/PRETSA/requirements.txt (line 5)) (1.4.8)\n",
            "Requirement already satisfied: pillow>=8 in /usr/local/lib/python3.11/dist-packages (from matplotlib->pm4py->-r /content/PRETSA/requirements.txt (line 5)) (11.1.0)\n",
            "Requirement already satisfied: pyparsing>=2.3.1 in /usr/local/lib/python3.11/dist-packages (from matplotlib->pm4py->-r /content/PRETSA/requirements.txt (line 5)) (3.2.1)\n",
            "Downloading pm4py-2.7.14-py3-none-any.whl (2.0 MB)\n",
            "\u001b[2K   \u001b[90m━━━━━━━━━━━━━━━━━━━━━━━━━━━━━━━━━━━━━━━━\u001b[0m \u001b[32m2.0/2.0 MB\u001b[0m \u001b[31m14.3 MB/s\u001b[0m eta \u001b[36m0:00:00\u001b[0m\n",
            "\u001b[?25hDownloading deprecation-2.1.0-py2.py3-none-any.whl (11 kB)\n",
            "Building wheels for collected packages: anytree, intervaltree\n",
            "  Building wheel for anytree (setup.py) ... \u001b[?25l\u001b[?25hdone\n",
            "  Created wheel for anytree: filename=anytree-2.4.3-py2.py3-none-any.whl size=26707 sha256=58057a9241bb33a9c85a15ba81fcee510c9cefacc01f1a182c726fab1a75f6ef\n",
            "  Stored in directory: /root/.cache/pip/wheels/f3/d3/8f/9eea88a7fe27ca18e7ebfc23e1012514c8b13a4552aa43be12\n",
            "  Building wheel for intervaltree (setup.py) ... \u001b[?25l\u001b[?25hdone\n",
            "  Created wheel for intervaltree: filename=intervaltree-3.1.0-py2.py3-none-any.whl size=26097 sha256=c6dfe88d662a114ec5014ee99dccaa19f7d6471d770ea26574a7417366a0962b\n",
            "  Stored in directory: /root/.cache/pip/wheels/31/d7/d9/eec6891f78cac19a693bd40ecb8365d2f4613318c145ec9816\n",
            "Successfully built anytree intervaltree\n",
            "Installing collected packages: intervaltree, deprecation, anytree, pm4py\n",
            "Successfully installed anytree-2.4.3 deprecation-2.1.0 intervaltree-3.1.0 pm4py-2.7.14\n"
          ]
        }
      ]
    },
    {
      "cell_type": "code",
      "source": [
        "!python /content/PRETSA/dataset_collection.py"
      ],
      "metadata": {
        "id": "fTdpS-DQhxqA",
        "colab": {
          "base_uri": "https://localhost:8080/"
        },
        "outputId": "c5db9b67-a139-4772-da0a-b907763cb415"
      },
      "execution_count": 3,
      "outputs": [
        {
          "output_type": "stream",
          "name": "stdout",
          "text": [
            "/usr/local/lib/python3.11/dist-packages/cudf/utils/_ptxcompiler.py:64: UserWarning: Error getting driver and runtime versions:\n",
            "\n",
            "stdout:\n",
            "\n",
            "\n",
            "\n",
            "stderr:\n",
            "\n",
            "Traceback (most recent call last):\n",
            "  File \"<string>\", line 4, in <module>\n",
            "  File \"/usr/local/lib/python3.11/dist-packages/numba_cuda/numba/cuda/cudadrv/driver.py\", line 314, in __getattr__\n",
            "    raise CudaSupportError(\"Error at driver init: \\n%s:\" %\n",
            "numba.cuda.cudadrv.error.CudaSupportError: Error at driver init: \n",
            "\n",
            "CUDA driver library cannot be found.\n",
            "If you are sure that a CUDA driver is installed,\n",
            "try setting environment variable NUMBA_CUDA_DRIVER\n",
            "with the file path of the CUDA driver shared library.\n",
            ":\n",
            "\n",
            "\n",
            "Not patching Numba\n",
            "  warnings.warn(msg, UserWarning)\n",
            "/usr/local/lib/python3.11/dist-packages/cudf/utils/gpu_utils.py:62: UserWarning: Failed to dlopen libcuda.so.1\n",
            "  warnings.warn(str(e))\n",
            "Downloading CoSeLoG from https://data.4tu.nl/file/2db2e3c1-9499-4699-9098-1a28c15a5913/21758246-61e7-4019-bf7d-fb6a9b38df14...\n",
            "Downloaded: /content/PRETSA/downloads/CoSeLoG.xes.gz\n",
            "Processing CoSeLoG...\n",
            "parsing log, completed traces :: 100% 1434/1434 [00:00<00:00, 3434.50it/s]\n",
            "Saved CSV: /content/PRETSA/csv_outputs/CoSeLoG_dataset.csv\n",
            "Downloading Sepsis from https://data.4tu.nl/file/33632f3c-5c48-40cf-8d8f-2db57f5a6ce7/643dccf2-985a-459e-835c-a82bce1c0339...\n",
            "Downloaded: /content/PRETSA/downloads/Sepsis.xes.gz\n",
            "Processing Sepsis...\n",
            "parsing log, completed traces :: 100% 1050/1050 [00:00<00:00, 1756.64it/s]\n",
            "Saved CSV: /content/PRETSA/csv_outputs/Sepsis_dataset.csv\n",
            "All datasets processed.\n"
          ]
        }
      ]
    },
    {
      "cell_type": "markdown",
      "source": [
        "## Running Annotations for three datasets"
      ],
      "metadata": {
        "id": "IMwoETXJmE5j"
      }
    },
    {
      "cell_type": "code",
      "source": [
        "# Generates all the original annotation duration for each of the three datasets: CoSeLog, Sepsis and Road Traffc\n",
        "# Generates /content/PRETSA/original_annotation/\n",
        "!python /content/PRETSA/gc_add_annotations_duration.py"
      ],
      "metadata": {
        "colab": {
          "base_uri": "https://localhost:8080/"
        },
        "id": "qrwsY3qdAORD",
        "outputId": "b6b303a6-a5b5-40b9-d478-e19d68c281ba"
      },
      "execution_count": 4,
      "outputs": [
        {
          "output_type": "stream",
          "name": "stdout",
          "text": [
            "Processing: CoSeLoG\n",
            "Writting: /content/PRETSA/original_annotation/CoSeLoG_duration.csv\n",
            "Reading: /content/PRETSA/csv_outputs/CoSeLoG_dataset.csv\n",
            "Processing: Sepsis\n",
            "Writting: /content/PRETSA/original_annotation/Sepsis_duration.csv\n",
            "Reading: /content/PRETSA/csv_outputs/Sepsis_dataset.csv\n"
          ]
        }
      ]
    },
    {
      "cell_type": "markdown",
      "source": [
        "## Run Pretsa: Generates Pretsa Log\n"
      ],
      "metadata": {
        "id": "Ho0daYTEmLns"
      }
    },
    {
      "cell_type": "code",
      "source": [
        "t = 0.7"
      ],
      "metadata": {
        "id": "QlPBMHYFmp3m"
      },
      "execution_count": null,
      "outputs": []
    },
    {
      "cell_type": "code",
      "source": [
        "# Generates: /content/PRETSA/pretsalog/ f\"{dataset}_t{t}_k{k}_pretsa.csv\"\n",
        "# These contain the new annotations for duration after Running PRETSA method\n",
        "\n",
        "!python /content/PRETSA/startExperimentsForJournalExtension_PRETSA.py t"
      ],
      "metadata": {
        "colab": {
          "base_uri": "https://localhost:8080/"
        },
        "id": "KWGNTrrSjO60",
        "outputId": "0a6cf4d6-bf4d-4283-d74c-bb453c1eaadb"
      },
      "execution_count": 5,
      "outputs": [
        {
          "output_type": "stream",
          "name": "stdout",
          "text": [
            " Load Event Log: /content/PRETSA/original_annotation/CoSeLoG_duration.csv\n",
            "Generated Distance Matrix\n",
            " Fixing K-Anonymity...\n",
            " Fixing T-closeness...\n",
            "T-Closeness adjustments applied to 0 nodes.\n",
            " Modified 99 cases for k=4, t=1.0\n",
            " Private event log saved at: /content/PRETSA/pretsalog/CoSeLoG_t1.0_k4_pretsa.csv\n",
            " Experiment metadata saved at: /content/PRETSA/pretsalog/CoSeLoG_t1.0_k4_pretsa.pickle\n",
            " Load Event Log: /content/PRETSA/original_annotation/CoSeLoG_duration.csv\n",
            "Generated Distance Matrix\n",
            " Fixing K-Anonymity...\n",
            " Fixing T-closeness...\n",
            "T-Closeness adjustments applied to 0 nodes.\n",
            " Modified 112 cases for k=8, t=1.0\n",
            " Private event log saved at: /content/PRETSA/pretsalog/CoSeLoG_t1.0_k8_pretsa.csv\n",
            " Experiment metadata saved at: /content/PRETSA/pretsalog/CoSeLoG_t1.0_k8_pretsa.pickle\n",
            " Load Event Log: /content/PRETSA/original_annotation/CoSeLoG_duration.csv\n",
            "Generated Distance Matrix\n",
            " Fixing K-Anonymity...\n",
            " Fixing T-closeness...\n",
            "T-Closeness adjustments applied to 0 nodes.\n",
            " Modified 169 cases for k=16, t=1.0\n",
            " Private event log saved at: /content/PRETSA/pretsalog/CoSeLoG_t1.0_k16_pretsa.csv\n",
            " Experiment metadata saved at: /content/PRETSA/pretsalog/CoSeLoG_t1.0_k16_pretsa.pickle\n",
            " Load Event Log: /content/PRETSA/original_annotation/Sepsis_duration.csv\n",
            "Generated Distance Matrix\n",
            " Fixing K-Anonymity...\n",
            " Fixing T-closeness...\n",
            "T-Closeness adjustments applied to 0 nodes.\n",
            " Modified 760 cases for k=4, t=1.0\n",
            " Private event log saved at: /content/PRETSA/pretsalog/Sepsis_t1.0_k4_pretsa.csv\n",
            " Experiment metadata saved at: /content/PRETSA/pretsalog/Sepsis_t1.0_k4_pretsa.pickle\n",
            " Load Event Log: /content/PRETSA/original_annotation/Sepsis_duration.csv\n",
            "Generated Distance Matrix\n",
            " Fixing K-Anonymity...\n",
            " Fixing T-closeness...\n",
            "T-Closeness adjustments applied to 0 nodes.\n",
            " Modified 838 cases for k=8, t=1.0\n",
            " Private event log saved at: /content/PRETSA/pretsalog/Sepsis_t1.0_k8_pretsa.csv\n",
            " Experiment metadata saved at: /content/PRETSA/pretsalog/Sepsis_t1.0_k8_pretsa.pickle\n",
            " Load Event Log: /content/PRETSA/original_annotation/Sepsis_duration.csv\n",
            "Generated Distance Matrix\n",
            " Fixing K-Anonymity...\n",
            " Fixing T-closeness...\n",
            "T-Closeness adjustments applied to 0 nodes.\n",
            " Modified 888 cases for k=16, t=1.0\n",
            " Private event log saved at: /content/PRETSA/pretsalog/Sepsis_t1.0_k16_pretsa.csv\n",
            " Experiment metadata saved at: /content/PRETSA/pretsalog/Sepsis_t1.0_k16_pretsa.pickle\n"
          ]
        }
      ]
    },
    {
      "cell_type": "markdown",
      "source": [
        "## Run Baseline: Generate Baseline log"
      ],
      "metadata": {
        "id": "ur0JTYNUmfod"
      }
    },
    {
      "cell_type": "code",
      "source": [
        "# Generates: /content/PRETSA/baselinelogs/ Path(filePath).name.replace(\".csv\",\"_pretsa_baseline_k%s_t%s.csv\" % (kString,tString))\n",
        "# These contain the new annotations for duration after Running BASELINE method\n",
        "# Should generate same content as baselogs zip directory\n",
        "\n",
        "!python /content/PRETSA/gc_generate_baseline_log.py t"
      ],
      "metadata": {
        "colab": {
          "base_uri": "https://localhost:8080/"
        },
        "id": "89XByRmujhqo",
        "outputId": "e0ec8b24-821e-44cd-bcb0-985a1974bc28"
      },
      "execution_count": 1,
      "outputs": [
        {
          "output_type": "stream",
          "name": "stdout",
          "text": [
            "python3: can't open file '/content/PRETSA/gc_generate_baseline_log.py': [Errno 2] No such file or directory\n"
          ]
        }
      ]
    },
    {
      "cell_type": "markdown",
      "source": [
        "## Calculate Statistics"
      ],
      "metadata": {
        "id": "Ow1n50fCmZB6"
      }
    },
    {
      "cell_type": "code",
      "source": [
        "#Generates: \"baseline_event_logs_statistics/\"\n",
        "!python /content/PRETSA/calculateBaselineEventLogStatistics.py t\n",
        "\n",
        "#Generates: \"PRETSA_event_logs_statistics/\"\n",
        "!python /content/PRETSA/calculatePRETSAEventLogStatistics.py  t"
      ],
      "metadata": {
        "id": "yhEYZL17jhYn",
        "colab": {
          "base_uri": "https://localhost:8080/"
        },
        "outputId": "06fe9ea6-f70b-4981-d39c-5889ef409e72"
      },
      "execution_count": 8,
      "outputs": [
        {
          "output_type": "stream",
          "name": "stdout",
          "text": [
            "{'Dataset': 'CoSeLoG', 'k': 4, 'method': 'pretsa', 'variants': 32, 'cases': 1434}\n",
            "{'Dataset': 'CoSeLoG', 'k': 8, 'method': 'pretsa', 'variants': 27, 'cases': 1434}\n",
            "{'Dataset': 'CoSeLoG', 'k': 16, 'method': 'pretsa', 'variants': 21, 'cases': 1434}\n",
            "{'Dataset': 'Sepsis', 'k': 4, 'method': 'pretsa', 'variants': 216, 'cases': 1049}\n",
            "{'Dataset': 'Sepsis', 'k': 8, 'method': 'pretsa', 'variants': 116, 'cases': 1049}\n",
            "{'Dataset': 'Sepsis', 'k': 16, 'method': 'pretsa', 'variants': 60, 'cases': 1049}\n"
          ]
        }
      ]
    },
    {
      "cell_type": "markdown",
      "source": [
        "## Generate Annotations"
      ],
      "metadata": {
        "id": "fK5QwBG4mVGP"
      }
    },
    {
      "cell_type": "code",
      "source": [
        " #Generates: dictPath + \"pretsa_baseline_statistics_annotations.csv\"\n",
        "!python /content/PRETSA/calculateAnnotationsEventLog_baseline.py\n",
        "\n",
        " #Generates dictPath + \"pretsa_statistics_annotations.csv\"\n",
        "!python /content/PRETSA/calculateAnnotationsEventLog_pretsa.py\n",
        "\n",
        "#Generates original_annotations_pretsa.csv\n",
        "!python /content/PRETSA/generateAnnotationOriginalDataset.py"
      ],
      "metadata": {
        "id": "YWVB94AbjhQp"
      },
      "execution_count": 9,
      "outputs": []
    },
    {
      "cell_type": "markdown",
      "source": [
        "## Calculate Annotation Errors\n",
        "\n",
        " Relative error of the annotations for each activity"
      ],
      "metadata": {
        "id": "hJnhSzysmqPv"
      }
    },
    {
      "cell_type": "code",
      "source": [
        "#Needs: original_annotations_pretsa.csv, pretsa_baseline_statistics_annotations.csv, pretsa_statistics_annotations.csv\n",
        "!python /content/PRETSA/calculateAnnotationError.py"
      ],
      "metadata": {
        "id": "HL4jgTq2jwdg",
        "outputId": "a7b5efa4-c394-475d-d710-97fbbf9f4c50",
        "colab": {
          "base_uri": "https://localhost:8080/"
        }
      },
      "execution_count": 10,
      "outputs": [
        {
          "output_type": "stream",
          "name": "stdout",
          "text": [
            "4\n",
            "8\n",
            "16\n",
            "4\n",
            "8\n",
            "16\n"
          ]
        }
      ]
    }
  ],
  "metadata": {
    "language_info": {
      "name": "python"
    },
    "colab": {
      "provenance": [],
      "machine_shape": "hm"
    },
    "kernelspec": {
      "name": "python3",
      "display_name": "Python 3"
    }
  },
  "nbformat": 4,
  "nbformat_minor": 0
}