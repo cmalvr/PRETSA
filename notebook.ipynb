{
  "cells": [
    {
      "cell_type": "markdown",
      "metadata": {
        "id": "z4rElDKnzvIv"
      },
      "source": [
        "# Differential Privacy for PRETSA"
      ]
    },
    {
      "cell_type": "code",
      "source": [
        "!git clone https://github.com/cmalvr/PRETSA"
      ],
      "metadata": {
        "id": "cQyBThI7z-FI",
        "outputId": "113cd334-fb07-4d9b-c12b-ec3db1159fa9",
        "colab": {
          "base_uri": "https://localhost:8080/"
        }
      },
      "execution_count": 2,
      "outputs": [
        {
          "output_type": "stream",
          "name": "stdout",
          "text": [
            "Cloning into 'PRETSA'...\n",
            "remote: Enumerating objects: 195, done.\u001b[K\n",
            "remote: Counting objects: 100% (80/80), done.\u001b[K\n",
            "remote: Compressing objects: 100% (66/66), done.\u001b[K\n",
            "remote: Total 195 (delta 42), reused 32 (delta 14), pack-reused 115 (from 1)\u001b[K\n",
            "Receiving objects: 100% (195/195), 11.45 MiB | 16.24 MiB/s, done.\n",
            "Resolving deltas: 100% (107/107), done.\n"
          ]
        }
      ]
    },
    {
      "cell_type": "code",
      "source": [
        "!pip install -r /content/PRETSA/requirements.txt"
      ],
      "metadata": {
        "id": "W5x4Jj6b0IZk",
        "outputId": "0808c4ec-e05d-45fa-9077-bbfa09c2198f",
        "colab": {
          "base_uri": "https://localhost:8080/"
        }
      },
      "execution_count": 5,
      "outputs": [
        {
          "output_type": "stream",
          "name": "stdout",
          "text": [
            "Collecting anytree==2.4.3 (from -r /content/PRETSA/requirements.txt (line 1))\n",
            "  Downloading anytree-2.4.3.tar.gz (18 kB)\n",
            "  Preparing metadata (setup.py) ... \u001b[?25l\u001b[?25hdone\n",
            "Requirement already satisfied: numpy>=1.18.1 in /usr/local/lib/python3.11/dist-packages (from -r /content/PRETSA/requirements.txt (line 2)) (1.26.4)\n",
            "Requirement already satisfied: scipy>=1.4.1 in /usr/local/lib/python3.11/dist-packages (from -r /content/PRETSA/requirements.txt (line 3)) (1.14.1)\n",
            "Requirement already satisfied: pandas>=0.23.4 in /usr/local/lib/python3.11/dist-packages (from -r /content/PRETSA/requirements.txt (line 4)) (2.2.2)\n",
            "Requirement already satisfied: six>=1.9.0 in /usr/local/lib/python3.11/dist-packages (from anytree==2.4.3->-r /content/PRETSA/requirements.txt (line 1)) (1.17.0)\n",
            "Requirement already satisfied: python-dateutil>=2.8.2 in /usr/local/lib/python3.11/dist-packages (from pandas>=0.23.4->-r /content/PRETSA/requirements.txt (line 4)) (2.8.2)\n",
            "Requirement already satisfied: pytz>=2020.1 in /usr/local/lib/python3.11/dist-packages (from pandas>=0.23.4->-r /content/PRETSA/requirements.txt (line 4)) (2025.1)\n",
            "Requirement already satisfied: tzdata>=2022.7 in /usr/local/lib/python3.11/dist-packages (from pandas>=0.23.4->-r /content/PRETSA/requirements.txt (line 4)) (2025.1)\n",
            "Building wheels for collected packages: anytree\n",
            "  Building wheel for anytree (setup.py) ... \u001b[?25l\u001b[?25hdone\n",
            "  Created wheel for anytree: filename=anytree-2.4.3-py2.py3-none-any.whl size=26707 sha256=ea97bdcfe1bef7270eac45fc07920ef46392d574b40f5486f94fa515213e5e52\n",
            "  Stored in directory: /root/.cache/pip/wheels/f3/d3/8f/9eea88a7fe27ca18e7ebfc23e1012514c8b13a4552aa43be12\n",
            "Successfully built anytree\n",
            "Installing collected packages: anytree\n",
            "Successfully installed anytree-2.4.3\n"
          ]
        }
      ]
    },
    {
      "cell_type": "code",
      "source": [
        "!rm -r \"/content/PRETSA/baselogs\""
      ],
      "metadata": {
        "id": "zyyw1S_713tT"
      },
      "execution_count": 14,
      "outputs": []
    },
    {
      "cell_type": "code",
      "source": [
        "from pathlib import Path\n",
        "import zipfile\n",
        "\n",
        "# Define paths\n",
        "zip_path = Path(\"/content/PRETSA/baselogs.zip\")\n",
        "extract_dir = Path(\"/content/PRETSA\")\n",
        "\n",
        "# Extract zip file\n",
        "with zipfile.ZipFile(zip_path, 'r') as zip_ref:\n",
        "    zip_ref.extractall(extract_dir)\n",
        "\n",
        "# Search for CSV files\n",
        "csv_files = list(extract_dir.glob(\"*.csv\"))\n",
        "\n",
        "if csv_files:\n",
        "    print(\"Found CSV files:\", [f.name for f in csv_files])\n",
        "else:\n",
        "    print(\"No CSV files found.\")"
      ],
      "metadata": {
        "id": "SCeBpPVQ0dVc",
        "outputId": "146530cb-ca66-4bc0-c768-6cb7c98a013c",
        "colab": {
          "base_uri": "https://localhost:8080/"
        }
      },
      "execution_count": 12,
      "outputs": [
        {
          "output_type": "stream",
          "name": "stdout",
          "text": [
            "No CSV files found.\n"
          ]
        }
      ]
    }
  ],
  "metadata": {
    "language_info": {
      "name": "python"
    },
    "colab": {
      "provenance": []
    },
    "kernelspec": {
      "name": "python3",
      "display_name": "Python 3"
    }
  },
  "nbformat": 4,
  "nbformat_minor": 0
}