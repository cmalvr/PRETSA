{
  "cells": [
    {
      "cell_type": "markdown",
      "metadata": {
        "id": "z4rElDKnzvIv"
      },
      "source": [
        "# Differential Privacy for PRETSA"
      ]
    },
    {
      "cell_type": "code",
      "source": [
        "!git clone https://github.com/cmalvr/PRETSA"
      ],
      "metadata": {
        "id": "cQyBThI7z-FI",
        "outputId": "721a4f17-4c35-4601-9ea5-3d52a6dba21b",
        "colab": {
          "base_uri": "https://localhost:8080/"
        }
      },
      "execution_count": 1,
      "outputs": [
        {
          "output_type": "stream",
          "name": "stdout",
          "text": [
            "Cloning into 'PRETSA'...\n",
            "remote: Enumerating objects: 211, done.\u001b[K\n",
            "remote: Counting objects: 100% (96/96), done.\u001b[K\n",
            "remote: Compressing objects: 100% (77/77), done.\u001b[K\n",
            "remote: Total 211 (delta 49), reused 43 (delta 19), pack-reused 115 (from 1)\u001b[K\n",
            "Receiving objects: 100% (211/211), 11.45 MiB | 8.47 MiB/s, done.\n",
            "Resolving deltas: 100% (114/114), done.\n"
          ]
        }
      ]
    },
    {
      "cell_type": "code",
      "source": [
        "!pip install -r /content/PRETSA/requirements.txt"
      ],
      "metadata": {
        "id": "W5x4Jj6b0IZk",
        "outputId": "97e7bcc0-0e51-4bd7-9ee4-d4cd4d649679",
        "colab": {
          "base_uri": "https://localhost:8080/"
        }
      },
      "execution_count": 2,
      "outputs": [
        {
          "output_type": "stream",
          "name": "stdout",
          "text": [
            "Collecting anytree==2.4.3 (from -r /content/PRETSA/requirements.txt (line 1))\n",
            "  Downloading anytree-2.4.3.tar.gz (18 kB)\n",
            "  Preparing metadata (setup.py) ... \u001b[?25l\u001b[?25hdone\n",
            "Requirement already satisfied: numpy>=1.18.1 in /usr/local/lib/python3.11/dist-packages (from -r /content/PRETSA/requirements.txt (line 2)) (1.26.4)\n",
            "Requirement already satisfied: scipy>=1.4.1 in /usr/local/lib/python3.11/dist-packages (from -r /content/PRETSA/requirements.txt (line 3)) (1.14.1)\n",
            "Requirement already satisfied: pandas>=0.23.4 in /usr/local/lib/python3.11/dist-packages (from -r /content/PRETSA/requirements.txt (line 4)) (2.2.2)\n",
            "Requirement already satisfied: six>=1.9.0 in /usr/local/lib/python3.11/dist-packages (from anytree==2.4.3->-r /content/PRETSA/requirements.txt (line 1)) (1.17.0)\n",
            "Requirement already satisfied: python-dateutil>=2.8.2 in /usr/local/lib/python3.11/dist-packages (from pandas>=0.23.4->-r /content/PRETSA/requirements.txt (line 4)) (2.8.2)\n",
            "Requirement already satisfied: pytz>=2020.1 in /usr/local/lib/python3.11/dist-packages (from pandas>=0.23.4->-r /content/PRETSA/requirements.txt (line 4)) (2025.1)\n",
            "Requirement already satisfied: tzdata>=2022.7 in /usr/local/lib/python3.11/dist-packages (from pandas>=0.23.4->-r /content/PRETSA/requirements.txt (line 4)) (2025.1)\n",
            "Building wheels for collected packages: anytree\n",
            "  Building wheel for anytree (setup.py) ... \u001b[?25l\u001b[?25hdone\n",
            "  Created wheel for anytree: filename=anytree-2.4.3-py2.py3-none-any.whl size=26707 sha256=46c2fd8082a490951c57bc782ec762af0cb4571101a0ecadc551a8d19ddcb6a8\n",
            "  Stored in directory: /root/.cache/pip/wheels/f3/d3/8f/9eea88a7fe27ca18e7ebfc23e1012514c8b13a4552aa43be12\n",
            "Successfully built anytree\n",
            "Installing collected packages: anytree\n",
            "Successfully installed anytree-2.4.3\n"
          ]
        }
      ]
    },
    {
      "cell_type": "code",
      "source": [
        "!rm -r \"/content/PRETSA/baselogs\""
      ],
      "metadata": {
        "id": "zyyw1S_713tT",
        "colab": {
          "base_uri": "https://localhost:8080/"
        },
        "outputId": "3327dd9e-60ab-4115-a7c1-8c999b2bafd4"
      },
      "execution_count": 3,
      "outputs": [
        {
          "output_type": "stream",
          "name": "stdout",
          "text": [
            "rm: cannot remove '/content/PRETSA/baselogs': No such file or directory\n"
          ]
        }
      ]
    },
    {
      "cell_type": "code",
      "source": [
        "from pathlib import Path\n",
        "import zipfile\n",
        "\n",
        "# Define paths\n",
        "zip_path = Path(\"/content/PRETSA/baselogs.zip\")\n",
        "extract_dir = Path(\"/content/PRETSA\")\n",
        "\n",
        "# Extract zip file\n",
        "with zipfile.ZipFile(zip_path, 'r') as zip_ref:\n",
        "    zip_ref.extractall(extract_dir)\n",
        "\n",
        "# Search for CSV files\n",
        "csv_files = list(extract_dir.rglob(\"*.csv\"))\n",
        "\n",
        "if csv_files:\n",
        "    print(\"Found CSV files:\", [f.name for f in csv_files])\n",
        "else:\n",
        "    print(\"No CSV files found.\")"
      ],
      "metadata": {
        "id": "SCeBpPVQ0dVc",
        "outputId": "c76f0920-5a00-47fa-970f-bbc6da720fb8",
        "colab": {
          "base_uri": "https://localhost:8080/"
        }
      },
      "execution_count": 4,
      "outputs": [
        {
          "output_type": "stream",
          "name": "stdout",
          "text": [
            "Found CSV files: ['bpic2013_dataset.csv', 'Sepsis_dataset.csv', 'traffic_fines_dataset.csv', 'HospitalBilling_dataset.csv', 'CoSeLoG_dataset.csv']\n"
          ]
        }
      ]
    },
    {
      "cell_type": "code",
      "source": [
        "!python /content/PRETSA/add_annotation_duration.py Sepsis_dataset /content/PRETSA/baselogs/Sepsis_dataset.csv"
      ],
      "metadata": {
        "colab": {
          "base_uri": "https://localhost:8080/"
        },
        "id": "qrwsY3qdAORD",
        "outputId": "b183abf9-e109-4c4b-b97e-3cbdc8e40c38"
      },
      "execution_count": 5,
      "outputs": [
        {
          "output_type": "stream",
          "name": "stdout",
          "text": [
            "/content/PRETSA/baselogs/Sepsis_dataset_duration.csv\n"
          ]
        }
      ]
    }
  ],
  "metadata": {
    "language_info": {
      "name": "python"
    },
    "colab": {
      "provenance": []
    },
    "kernelspec": {
      "name": "python3",
      "display_name": "Python 3"
    }
  },
  "nbformat": 4,
  "nbformat_minor": 0
}