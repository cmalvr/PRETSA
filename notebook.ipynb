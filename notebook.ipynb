{
  "cells": [
    {
      "cell_type": "markdown",
      "metadata": {
        "id": "z4rElDKnzvIv"
      },
      "source": [
        "# Differential Privacy for PRETSA"
      ]
    },
    {
      "cell_type": "code",
      "source": [
        "!git clone https://github.com/cmalvr/PRETSA"
      ],
      "metadata": {
        "id": "cQyBThI7z-FI",
        "outputId": "f461208b-fd31-4e7f-89df-9c02ed09b0e5",
        "colab": {
          "base_uri": "https://localhost:8080/"
        }
      },
      "execution_count": 6,
      "outputs": [
        {
          "output_type": "stream",
          "name": "stdout",
          "text": [
            "fatal: destination path 'PRETSA' already exists and is not an empty directory.\n"
          ]
        }
      ]
    },
    {
      "cell_type": "code",
      "source": [
        "!pip install -r /content/PRETSA/requirements.txt"
      ],
      "metadata": {
        "id": "W5x4Jj6b0IZk",
        "outputId": "93e9e115-2d83-4fd3-fed3-c88c48e3a8f5",
        "colab": {
          "base_uri": "https://localhost:8080/"
        }
      },
      "execution_count": 7,
      "outputs": [
        {
          "output_type": "stream",
          "name": "stdout",
          "text": [
            "Requirement already satisfied: anytree==2.4.3 in /usr/local/lib/python3.11/dist-packages (from -r /content/PRETSA/requirements.txt (line 1)) (2.4.3)\n",
            "Requirement already satisfied: numpy>=1.18.1 in /usr/local/lib/python3.11/dist-packages (from -r /content/PRETSA/requirements.txt (line 2)) (1.26.4)\n",
            "Requirement already satisfied: scipy>=1.4.1 in /usr/local/lib/python3.11/dist-packages (from -r /content/PRETSA/requirements.txt (line 3)) (1.14.1)\n",
            "Requirement already satisfied: pandas>=0.23.4 in /usr/local/lib/python3.11/dist-packages (from -r /content/PRETSA/requirements.txt (line 4)) (2.2.2)\n",
            "Requirement already satisfied: six>=1.9.0 in /usr/local/lib/python3.11/dist-packages (from anytree==2.4.3->-r /content/PRETSA/requirements.txt (line 1)) (1.17.0)\n",
            "Requirement already satisfied: python-dateutil>=2.8.2 in /usr/local/lib/python3.11/dist-packages (from pandas>=0.23.4->-r /content/PRETSA/requirements.txt (line 4)) (2.8.2)\n",
            "Requirement already satisfied: pytz>=2020.1 in /usr/local/lib/python3.11/dist-packages (from pandas>=0.23.4->-r /content/PRETSA/requirements.txt (line 4)) (2025.1)\n",
            "Requirement already satisfied: tzdata>=2022.7 in /usr/local/lib/python3.11/dist-packages (from pandas>=0.23.4->-r /content/PRETSA/requirements.txt (line 4)) (2025.1)\n"
          ]
        }
      ]
    },
    {
      "cell_type": "code",
      "source": [
        "!rm -r \"/content/PRETSA/baselogs\""
      ],
      "metadata": {
        "id": "zyyw1S_713tT"
      },
      "execution_count": 8,
      "outputs": []
    },
    {
      "cell_type": "code",
      "source": [
        "from pathlib import Path\n",
        "import zipfile\n",
        "\n",
        "# Define paths\n",
        "zip_path = Path(\"/content/PRETSA/baselogs.zip\")\n",
        "extract_dir = Path(\"/content/PRETSA\")\n",
        "\n",
        "# Extract zip file\n",
        "with zipfile.ZipFile(zip_path, 'r') as zip_ref:\n",
        "    zip_ref.extractall(extract_dir)\n",
        "\n",
        "# Search for CSV files\n",
        "csv_files = list(extract_dir.rglob(\"*.csv\"))\n",
        "\n",
        "if csv_files:\n",
        "    print(\"Found CSV files:\", [f.name for f in csv_files])\n",
        "else:\n",
        "    print(\"No CSV files found.\")"
      ],
      "metadata": {
        "id": "SCeBpPVQ0dVc",
        "outputId": "4233840f-adfa-4ded-81cb-c6c522866d5c",
        "colab": {
          "base_uri": "https://localhost:8080/"
        }
      },
      "execution_count": 9,
      "outputs": [
        {
          "output_type": "stream",
          "name": "stdout",
          "text": [
            "Found CSV files: ['Sepsis_dataset_duration.csv', 'bpic2013_dataset.csv', 'Sepsis_dataset.csv', 'traffic_fines_dataset.csv', 'HospitalBilling_dataset.csv', 'CoSeLoG_dataset.csv']\n"
          ]
        }
      ]
    },
    {
      "cell_type": "code",
      "source": [
        "!python /content/PRETSA/add_annotation_duration.py Sepsis_dataset /content/PRETSA/baselogs/Sepsis_dataset.csv"
      ],
      "metadata": {
        "colab": {
          "base_uri": "https://localhost:8080/"
        },
        "id": "qrwsY3qdAORD",
        "outputId": "ced0a8a2-5bef-4029-8877-dac85e932e93"
      },
      "execution_count": 10,
      "outputs": [
        {
          "output_type": "stream",
          "name": "stdout",
          "text": [
            "/content/PRETSA/runlogs/Sepsis_dataset_duration.csv\n"
          ]
        }
      ]
    },
    {
      "cell_type": "code",
      "source": [
        "!python /content/PRETSA/runPretsa.py <fileName> <k> <t>"
      ],
      "metadata": {
        "id": "KWGNTrrSjO60"
      },
      "execution_count": null,
      "outputs": []
    },
    {
      "cell_type": "code",
      "source": [
        "!python /content/PRETSA/generate_baseline_log.py <fileName> <k> <t>"
      ],
      "metadata": {
        "id": "89XByRmujhqo"
      },
      "execution_count": null,
      "outputs": []
    },
    {
      "cell_type": "code",
      "source": [
        "!python /content/PRETSA/calculateDatasetStatistics.py <fileName>\n",
        "!python /content/PRETSA/calculatBaselineEventLogStatistics.py <dictName>\n",
        "!python /content/PRETSA/calculatePRETSAEventLogStatistics.py <dictName>"
      ],
      "metadata": {
        "id": "yhEYZL17jhYn"
      },
      "execution_count": null,
      "outputs": []
    },
    {
      "cell_type": "code",
      "source": [
        "!python /content/PRETSA/calculateAnnotationsEventLog_baseline.py <dictName>\n",
        "!python /content/PRETSA/calculateAnnotationsEventLog_pretsa.py <dictName>"
      ],
      "metadata": {
        "id": "YWVB94AbjhQp"
      },
      "execution_count": null,
      "outputs": []
    },
    {
      "cell_type": "code",
      "source": [
        "!python /content/PRETSA/calculateAnnotationsEventLog_baseline.py <dictName>\n",
        "!python /content/PRETSA/calculateAnnotationsEventLog_pretsa.py <dictName>"
      ],
      "metadata": {
        "id": "HKVp3jRZjr2_"
      },
      "execution_count": null,
      "outputs": []
    },
    {
      "cell_type": "code",
      "source": [
        "!python /content/PRETSA/generateAnnotationOriginalDataset.py <dictName>"
      ],
      "metadata": {
        "id": "2V1X1J00juai"
      },
      "execution_count": null,
      "outputs": []
    },
    {
      "cell_type": "code",
      "source": [
        "!python /content/PRETSA/calculateAnnotationError.py <dictName>"
      ],
      "metadata": {
        "id": "HL4jgTq2jwdg"
      },
      "execution_count": null,
      "outputs": []
    }
  ],
  "metadata": {
    "language_info": {
      "name": "python"
    },
    "colab": {
      "provenance": []
    },
    "kernelspec": {
      "name": "python3",
      "display_name": "Python 3"
    }
  },
  "nbformat": 4,
  "nbformat_minor": 0
}