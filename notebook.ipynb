{
  "cells": [
    {
      "cell_type": "markdown",
      "metadata": {
        "id": "z4rElDKnzvIv"
      },
      "source": [
        "# Differential Privacy for PRETSA"
      ]
    },
    {
      "cell_type": "code",
      "source": [
        "!git clone https://github.com/cmalvr/PRETSA"
      ],
      "metadata": {
        "id": "cQyBThI7z-FI"
      },
      "execution_count": null,
      "outputs": []
    },
    {
      "cell_type": "code",
      "source": [
        "!pip install -r /content/PRETSA/requirements.txt"
      ],
      "metadata": {
        "id": "W5x4Jj6b0IZk"
      },
      "execution_count": null,
      "outputs": []
    },
    {
      "cell_type": "code",
      "source": [
        "!python /content/PRETSA/dataset_collection.py"
      ],
      "metadata": {
        "id": "fTdpS-DQhxqA"
      },
      "execution_count": null,
      "outputs": []
    },
    {
      "cell_type": "markdown",
      "source": [
        "## Running Annotations for three datasets"
      ],
      "metadata": {
        "id": "IMwoETXJmE5j"
      }
    },
    {
      "cell_type": "code",
      "source": [
        "# Generates all the original annotation duration for each of the three datasets: CoSeLog, Sepsis and Road Traffc\n",
        "# Generates /content/PRETSA/original_annotation/\n",
        "!python /content/PRETSA/gc_add_annotations_duration.py"
      ],
      "metadata": {
        "id": "qrwsY3qdAORD"
      },
      "execution_count": null,
      "outputs": []
    },
    {
      "cell_type": "markdown",
      "source": [
        "## Run Pretsa: Generates Pretsa Log\n"
      ],
      "metadata": {
        "id": "Ho0daYTEmLns"
      }
    },
    {
      "cell_type": "code",
      "source": [
        "t = 0.7"
      ],
      "metadata": {
        "id": "QlPBMHYFmp3m"
      },
      "execution_count": null,
      "outputs": []
    },
    {
      "cell_type": "code",
      "source": [
        "# Generates: /content/PRETSA/pretsalog/ f\"{dataset}_t{t}_k{k}_pretsa.csv\"\n",
        "# These contain the new annotations for duration after Running PRETSA method\n",
        "\n",
        "!python /content/PRETSA/startExperimentsForJournalExtension_PRETSA.py t"
      ],
      "metadata": {
        "id": "KWGNTrrSjO60"
      },
      "execution_count": null,
      "outputs": []
    },
    {
      "cell_type": "markdown",
      "source": [
        "## Run Baseline: Generate Baseline log"
      ],
      "metadata": {
        "id": "ur0JTYNUmfod"
      }
    },
    {
      "cell_type": "code",
      "source": [
        "# Generates: /content/PRETSA/baselinelogs/ Path(filePath).name.replace(\".csv\",\"_pretsa_baseline_k%s_t%s.csv\" % (kString,tString))\n",
        "# These contain the new annotations for duration after Running BASELINE method\n",
        "# Should generate same content as baselogs zip directory\n",
        "\n",
        "!python /content/PRETSA/gc_generate_baseline_log.py t"
      ],
      "metadata": {
        "id": "89XByRmujhqo"
      },
      "execution_count": null,
      "outputs": []
    },
    {
      "cell_type": "markdown",
      "source": [
        "## Calculate Statistics"
      ],
      "metadata": {
        "id": "Ow1n50fCmZB6"
      }
    },
    {
      "cell_type": "code",
      "source": [
        "#Generates: \"baseline_event_logs_statistics/\"\n",
        "!python /content/PRETSA/calculateBaselineEventLogStatistics.py t\n",
        "\n",
        "#Generates: \"PRETSA_event_logs_statistics/\"\n",
        "!python /content/PRETSA/calculatePRETSAEventLogStatistics.py  t"
      ],
      "metadata": {
        "id": "yhEYZL17jhYn"
      },
      "execution_count": null,
      "outputs": []
    },
    {
      "cell_type": "markdown",
      "source": [
        "## Generate Annotations"
      ],
      "metadata": {
        "id": "fK5QwBG4mVGP"
      }
    },
    {
      "cell_type": "code",
      "source": [
        " #Generates: dictPath + \"pretsa_baseline_statistics_annotations.csv\"\n",
        "!python /content/PRETSA/calculateAnnotationsEventLog_baseline.py t\n",
        "\n",
        " #Generates dictPath + \"pretsa_statistics_annotations.csv\"\n",
        "!python /content/PRETSA/calculateAnnotationsEventLog_pretsa.py t\n",
        "\n",
        "#Generates original_annotations_pretsa.csv\n",
        "!python /content/PRETSA/generateAnnotationOriginalDataset.py"
      ],
      "metadata": {
        "id": "YWVB94AbjhQp"
      },
      "execution_count": null,
      "outputs": []
    },
    {
      "cell_type": "markdown",
      "source": [
        "## Calculate Annotation Errors\n",
        "\n",
        " Relative error of the annotations for each activity"
      ],
      "metadata": {
        "id": "hJnhSzysmqPv"
      }
    },
    {
      "cell_type": "code",
      "source": [
        "#Needs: original_annotations_pretsa.csv, pretsa_baseline_statistics_annotations.csv, pretsa_statistics_annotations.csv\n",
        "!python /content/PRETSA/calculateAnnotationError.py  t"
      ],
      "metadata": {
        "id": "HL4jgTq2jwdg"
      },
      "execution_count": null,
      "outputs": []
    }
  ],
  "metadata": {
    "language_info": {
      "name": "python"
    },
    "colab": {
      "provenance": [],
      "machine_shape": "hm"
    },
    "kernelspec": {
      "name": "python3",
      "display_name": "Python 3"
    }
  },
  "nbformat": 4,
  "nbformat_minor": 0
}