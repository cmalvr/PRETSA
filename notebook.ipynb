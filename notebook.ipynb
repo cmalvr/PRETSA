{
  "cells": [
    {
      "cell_type": "markdown",
      "metadata": {
        "id": "z4rElDKnzvIv"
      },
      "source": [
        "# Differential Privacy for PRETSA"
      ]
    },
    {
      "cell_type": "code",
      "source": [
        "!git clone https://github.com/cmalvr/PRETSA"
      ],
      "metadata": {
        "id": "cQyBThI7z-FI",
        "outputId": "5e95b658-1e6c-4b48-e8e4-206dddb59532",
        "colab": {
          "base_uri": "https://localhost:8080/"
        }
      },
      "execution_count": 1,
      "outputs": [
        {
          "output_type": "stream",
          "name": "stdout",
          "text": [
            "Cloning into 'PRETSA'...\n",
            "remote: Enumerating objects: 256, done.\u001b[K\n",
            "remote: Counting objects: 100% (16/16), done.\u001b[K\n",
            "remote: Compressing objects: 100% (14/14), done.\u001b[K\n",
            "remote: Total 256 (delta 6), reused 7 (delta 2), pack-reused 240 (from 1)\u001b[K\n",
            "Receiving objects: 100% (256/256), 11.46 MiB | 10.49 MiB/s, done.\n",
            "Resolving deltas: 100% (144/144), done.\n"
          ]
        }
      ]
    },
    {
      "cell_type": "code",
      "source": [
        "!pip install -r /content/PRETSA/requirements.txt"
      ],
      "metadata": {
        "id": "W5x4Jj6b0IZk",
        "outputId": "04f7d658-2d0b-4bca-94bd-16cc1d4c5b4b",
        "colab": {
          "base_uri": "https://localhost:8080/"
        }
      },
      "execution_count": 2,
      "outputs": [
        {
          "output_type": "stream",
          "name": "stdout",
          "text": [
            "Collecting anytree==2.4.3 (from -r /content/PRETSA/requirements.txt (line 1))\n",
            "  Downloading anytree-2.4.3.tar.gz (18 kB)\n",
            "  Preparing metadata (setup.py) ... \u001b[?25l\u001b[?25hdone\n",
            "Requirement already satisfied: numpy>=1.18.1 in /usr/local/lib/python3.11/dist-packages (from -r /content/PRETSA/requirements.txt (line 2)) (1.26.4)\n",
            "Requirement already satisfied: scipy>=1.4.1 in /usr/local/lib/python3.11/dist-packages (from -r /content/PRETSA/requirements.txt (line 3)) (1.14.1)\n",
            "Requirement already satisfied: pandas>=0.23.4 in /usr/local/lib/python3.11/dist-packages (from -r /content/PRETSA/requirements.txt (line 4)) (2.2.2)\n",
            "Requirement already satisfied: six>=1.9.0 in /usr/local/lib/python3.11/dist-packages (from anytree==2.4.3->-r /content/PRETSA/requirements.txt (line 1)) (1.17.0)\n",
            "Requirement already satisfied: python-dateutil>=2.8.2 in /usr/local/lib/python3.11/dist-packages (from pandas>=0.23.4->-r /content/PRETSA/requirements.txt (line 4)) (2.8.2)\n",
            "Requirement already satisfied: pytz>=2020.1 in /usr/local/lib/python3.11/dist-packages (from pandas>=0.23.4->-r /content/PRETSA/requirements.txt (line 4)) (2025.1)\n",
            "Requirement already satisfied: tzdata>=2022.7 in /usr/local/lib/python3.11/dist-packages (from pandas>=0.23.4->-r /content/PRETSA/requirements.txt (line 4)) (2025.1)\n",
            "Building wheels for collected packages: anytree\n",
            "  Building wheel for anytree (setup.py) ... \u001b[?25l\u001b[?25hdone\n",
            "  Created wheel for anytree: filename=anytree-2.4.3-py2.py3-none-any.whl size=26707 sha256=94e8b2a9daee3c9c0a694f4f0683e30d0ccc9d044f06180e63ea206d1d294b57\n",
            "  Stored in directory: /root/.cache/pip/wheels/f3/d3/8f/9eea88a7fe27ca18e7ebfc23e1012514c8b13a4552aa43be12\n",
            "Successfully built anytree\n",
            "Installing collected packages: anytree\n",
            "Successfully installed anytree-2.4.3\n"
          ]
        }
      ]
    },
    {
      "cell_type": "code",
      "source": [
        "from pathlib import Path\n",
        "import zipfile\n",
        "\n",
        "# Define paths\n",
        "zip_path = Path(\"/content/PRETSA/baselogs.zip\")\n",
        "extract_dir = Path(\"/content/PRETSA\")\n",
        "\n",
        "# Extract zip file\n",
        "with zipfile.ZipFile(zip_path, 'r') as zip_ref:\n",
        "    zip_ref.extractall(extract_dir)\n",
        "\n",
        "# Search for CSV files\n",
        "csv_files = list(extract_dir.rglob(\"*.csv\"))\n",
        "\n",
        "if csv_files:\n",
        "    print(\"Found CSV files:\", [f.name for f in csv_files])\n",
        "else:\n",
        "    print(\"No CSV files found.\")"
      ],
      "metadata": {
        "id": "SCeBpPVQ0dVc",
        "outputId": "cbdddd0d-de3b-4823-ea3f-7712c76893d2",
        "colab": {
          "base_uri": "https://localhost:8080/"
        }
      },
      "execution_count": 4,
      "outputs": [
        {
          "output_type": "stream",
          "name": "stdout",
          "text": [
            "Found CSV files: ['bpic2013_dataset.csv', 'Sepsis_dataset.csv', 'traffic_fines_dataset.csv', 'HospitalBilling_dataset.csv', 'CoSeLoG_dataset.csv']\n"
          ]
        }
      ]
    },
    {
      "cell_type": "markdown",
      "source": [
        "## Running Annotations for three datasets"
      ],
      "metadata": {
        "id": "IMwoETXJmE5j"
      }
    },
    {
      "cell_type": "code",
      "source": [
        "!git pull"
      ],
      "metadata": {
        "id": "U2BHPqYrKKzz"
      },
      "execution_count": null,
      "outputs": []
    },
    {
      "cell_type": "code",
      "source": [
        "!rm -r original_annotation/ baselogs/"
      ],
      "metadata": {
        "id": "KHKAUp38aCIp"
      },
      "execution_count": 25,
      "outputs": []
    },
    {
      "cell_type": "code",
      "source": [
        "# Generates all the original annotation duration for each of the three datasets: CoSeLog, Sepsis and Road Traffc\n",
        "# Generates /content/PRETSA/original_annotation/\n",
        "!python /content/PRETSA/gc_add_annotations_duration.py with"
      ],
      "metadata": {
        "colab": {
          "base_uri": "https://localhost:8080/"
        },
        "id": "qrwsY3qdAORD",
        "outputId": "ad0cd654-26c2-499f-8177-bc62608ebdfd"
      },
      "execution_count": 26,
      "outputs": [
        {
          "output_type": "stream",
          "name": "stdout",
          "text": [
            "Processing: CoSeLoG\n",
            "/content/PRETSA/original_annotation/CoSeLoG_duration.csv\n",
            "Processing: Sepsis\n",
            "/content/PRETSA/original_annotation/Sepsis_duration.csv\n",
            "Processing: Road_Traffic_Fine_Management_Process\n",
            "/content/PRETSA/original_annotation/Road_Traffic_Fine_Management_Process_duration.csv\n"
          ]
        }
      ]
    },
    {
      "cell_type": "markdown",
      "source": [
        "## Run Pretsa: Generates Pretsa Log\n"
      ],
      "metadata": {
        "id": "Ho0daYTEmLns"
      }
    },
    {
      "cell_type": "code",
      "source": [
        "!python /content/PRETSA/startExperimentsForJournalExtension_PRETSA.py\n",
        "# Generates: /content/PRETSA/pretsalog/ f\"{dataset}_t{t}_k{k}_pretsa.csv\"\n",
        "# These contain the new annotations for duration after Running PRETSA method"
      ],
      "metadata": {
        "colab": {
          "base_uri": "https://localhost:8080/"
        },
        "id": "KWGNTrrSjO60",
        "outputId": "d384baef-4ef4-49b3-b168-d46147aae66d"
      },
      "execution_count": null,
      "outputs": [
        {
          "output_type": "stream",
          "name": "stdout",
          "text": [
            " Load Event Log: /content/PRETSA/original_annotation/CoSeLoG_duration.csv\n",
            "Generated Distance Matrix\n",
            " Modified 19 cases for k=4, t=1.0\n",
            "/usr/local/lib/python3.11/dist-packages/scipy/stats/_axis_nan_policy.py:418: UserWarning: `kurtosistest` p-value may be inaccurate with fewer than 20 observations; only n=16 observations were given.\n",
            "  return hypotest_fun_in(*args, **kwds)\n",
            "/usr/local/lib/python3.11/dist-packages/scipy/stats/_axis_nan_policy.py:418: UserWarning: `kurtosistest` p-value may be inaccurate with fewer than 20 observations; only n=14 observations were given.\n",
            "  return hypotest_fun_in(*args, **kwds)\n",
            " Private event log saved at: /content/PRETSA/pretsalog/CoSeLoG_t1.0_k4_pretsa.csv\n",
            " Experiment metadata saved at: /content/PRETSA/pretsalog/CoSeLoG_t1.0_k4_pretsa.pickle\n",
            " Load Event Log: /content/PRETSA/original_annotation/CoSeLoG_duration.csv\n",
            "Generated Distance Matrix\n",
            " Modified 35 cases for k=8, t=1.0\n",
            "/usr/local/lib/python3.11/dist-packages/scipy/stats/_axis_nan_policy.py:418: UserWarning: `kurtosistest` p-value may be inaccurate with fewer than 20 observations; only n=14 observations were given.\n",
            "  return hypotest_fun_in(*args, **kwds)\n",
            "/usr/local/lib/python3.11/dist-packages/scipy/stats/_axis_nan_policy.py:418: UserWarning: `kurtosistest` p-value may be inaccurate with fewer than 20 observations; only n=16 observations were given.\n",
            "  return hypotest_fun_in(*args, **kwds)\n",
            " Private event log saved at: /content/PRETSA/pretsalog/CoSeLoG_t1.0_k8_pretsa.csv\n",
            " Experiment metadata saved at: /content/PRETSA/pretsalog/CoSeLoG_t1.0_k8_pretsa.pickle\n",
            " Load Event Log: /content/PRETSA/original_annotation/CoSeLoG_duration.csv\n",
            "Generated Distance Matrix\n",
            " Modified 88 cases for k=16, t=1.0\n",
            " Private event log saved at: /content/PRETSA/pretsalog/CoSeLoG_t1.0_k16_pretsa.csv\n",
            " Experiment metadata saved at: /content/PRETSA/pretsalog/CoSeLoG_t1.0_k16_pretsa.pickle\n",
            " Load Event Log: /content/PRETSA/original_annotation/CoSeLoG_duration.csv\n",
            "Generated Distance Matrix\n",
            " Modified 141 cases for k=32, t=1.0\n",
            " Private event log saved at: /content/PRETSA/pretsalog/CoSeLoG_t1.0_k32_pretsa.csv\n",
            " Experiment metadata saved at: /content/PRETSA/pretsalog/CoSeLoG_t1.0_k32_pretsa.pickle\n",
            " Load Event Log: /content/PRETSA/original_annotation/CoSeLoG_duration.csv\n",
            "Generated Distance Matrix\n",
            " Modified 185 cases for k=64, t=1.0\n",
            " Private event log saved at: /content/PRETSA/pretsalog/CoSeLoG_t1.0_k64_pretsa.csv\n",
            " Experiment metadata saved at: /content/PRETSA/pretsalog/CoSeLoG_t1.0_k64_pretsa.pickle\n",
            " Load Event Log: /content/PRETSA/original_annotation/Sepsis_duration.csv\n",
            "Generated Distance Matrix\n",
            " Modified 69 cases for k=4, t=1.0\n",
            " Private event log saved at: /content/PRETSA/pretsalog/Sepsis_t1.0_k4_pretsa.csv\n",
            " Experiment metadata saved at: /content/PRETSA/pretsalog/Sepsis_t1.0_k4_pretsa.pickle\n",
            " Load Event Log: /content/PRETSA/original_annotation/Sepsis_duration.csv\n",
            "Generated Distance Matrix\n",
            " Modified 128 cases for k=8, t=1.0\n",
            " Private event log saved at: /content/PRETSA/pretsalog/Sepsis_t1.0_k8_pretsa.csv\n",
            " Experiment metadata saved at: /content/PRETSA/pretsalog/Sepsis_t1.0_k8_pretsa.pickle\n",
            " Load Event Log: /content/PRETSA/original_annotation/Sepsis_duration.csv\n",
            "Generated Distance Matrix\n",
            " Modified 137 cases for k=16, t=1.0\n",
            " Private event log saved at: /content/PRETSA/pretsalog/Sepsis_t1.0_k16_pretsa.csv\n",
            " Experiment metadata saved at: /content/PRETSA/pretsalog/Sepsis_t1.0_k16_pretsa.pickle\n",
            " Load Event Log: /content/PRETSA/original_annotation/Sepsis_duration.csv\n",
            "Generated Distance Matrix\n",
            " Modified 174 cases for k=32, t=1.0\n",
            " Private event log saved at: /content/PRETSA/pretsalog/Sepsis_t1.0_k32_pretsa.csv\n",
            " Experiment metadata saved at: /content/PRETSA/pretsalog/Sepsis_t1.0_k32_pretsa.pickle\n",
            " Load Event Log: /content/PRETSA/original_annotation/Sepsis_duration.csv\n",
            "Generated Distance Matrix\n",
            " Modified 207 cases for k=64, t=1.0\n",
            " Private event log saved at: /content/PRETSA/pretsalog/Sepsis_t1.0_k64_pretsa.csv\n",
            " Experiment metadata saved at: /content/PRETSA/pretsalog/Sepsis_t1.0_k64_pretsa.pickle\n",
            " Load Event Log: /content/PRETSA/original_annotation/Road_Traffic_Fine_Management_Process_duration.csv\n",
            "Generated Distance Matrix\n",
            " Modified 95 cases for k=4, t=1.0\n"
          ]
        }
      ]
    },
    {
      "cell_type": "markdown",
      "source": [
        "## Run Baseline: Generate Baseline log"
      ],
      "metadata": {
        "id": "ur0JTYNUmfod"
      }
    },
    {
      "cell_type": "code",
      "source": [
        "!python /content/PRETSA/generate_baseline_log.py <fileName> <k> <t>\n",
        "# Generates: /content/PRETSA/baselinelogs/ Path(filePath).name.replace(\".csv\",\"_pretsa_baseline_k%s_t%s.csv\" % (kString,tString))\n",
        "# These contain the new annotations for duration after Running BASELINE method"
      ],
      "metadata": {
        "colab": {
          "base_uri": "https://localhost:8080/"
        },
        "id": "89XByRmujhqo",
        "outputId": "a7e691c7-b93c-432b-eba7-98eb388aec9c"
      },
      "execution_count": 11,
      "outputs": [
        {
          "output_type": "stream",
          "name": "stdout",
          "text": [
            "/bin/bash: -c: line 1: syntax error near unexpected token `<'\n",
            "/bin/bash: -c: line 1: `python /content/PRETSA/generate_baseline_log.py <fileName> <k> <t>'\n"
          ]
        }
      ]
    },
    {
      "cell_type": "markdown",
      "source": [
        "## Calculate Statistics"
      ],
      "metadata": {
        "id": "Ow1n50fCmZB6"
      }
    },
    {
      "cell_type": "code",
      "source": [
        "!python /content/PRETSA/calculateBaselineEventLogStatistics.py <dictName> #Needs: dictPath + dataset + \"_duration_baseline_k\" + str(k) + \".csv\", generates: dictPath + \"baseline_event_logs_statistics.csv\"\n",
        "!python /content/PRETSA/calculatePRETSAEventLogStatistics.py <dictName> #Needs: dictPath + dataset + \"_duration_pretsa_k\" + str(k) + \".csv\", generates: dictPath + \"pretsa_event_logs_statistics.csv\""
      ],
      "metadata": {
        "id": "yhEYZL17jhYn"
      },
      "execution_count": null,
      "outputs": []
    },
    {
      "cell_type": "markdown",
      "source": [
        "## Generate Annotations"
      ],
      "metadata": {
        "id": "fK5QwBG4mVGP"
      }
    },
    {
      "cell_type": "code",
      "source": [
        "!python /content/PRETSA/calculateAnnotationsEventLog_baseline.py <dictName> #Needs: filePath = dictPath + dataset + \"_duration_pretsa_baseline_k\" + str(k) + \"_t\" + str(t) + \".csv\" ,Generates: dictPath + \"pretsa_baseline_statistics_annotations.csv\"\n",
        "!python /content/PRETSA/calculateAnnotationsEventLog_pretsa.py <dictName> #Needs:dictPath + dataset + \"_duration_t\" + tString[t] + \"_k\" + str(k) + \"_pretsa.csv\" , generates dictPath + \"pretsa_statistics_annotations.csv\"\n",
        "!python /content/PRETSA/generateAnnotationOriginalDataset.py <dictName> #generates original_annotations_pretsa.csv (located in <dictName>)"
      ],
      "metadata": {
        "id": "YWVB94AbjhQp"
      },
      "execution_count": null,
      "outputs": []
    },
    {
      "cell_type": "markdown",
      "source": [
        "## Calculate Annotation Errors\n",
        "\n",
        " Relative error of the annotations for each activity"
      ],
      "metadata": {
        "id": "hJnhSzysmqPv"
      }
    },
    {
      "cell_type": "code",
      "source": [
        "!python /content/PRETSA/calculateAnnotationError.py <dictName> #Needs: original_annotations_pretsa.csv, pretsa_baseline_statistics_annotations.csv, pretsa_statistics_annotations.csv"
      ],
      "metadata": {
        "id": "HL4jgTq2jwdg"
      },
      "execution_count": null,
      "outputs": []
    }
  ],
  "metadata": {
    "language_info": {
      "name": "python"
    },
    "colab": {
      "provenance": []
    },
    "kernelspec": {
      "name": "python3",
      "display_name": "Python 3"
    }
  },
  "nbformat": 4,
  "nbformat_minor": 0
}